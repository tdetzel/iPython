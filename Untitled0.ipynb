{
 "metadata": {
  "name": "",
  "signature": "sha256:9a6893e8151847c677514dfa35ec05571b6d2826ef24b44f3cce5d8da79dda7e"
 },
 "nbformat": 3,
 "nbformat_minor": 0,
 "worksheets": []
}