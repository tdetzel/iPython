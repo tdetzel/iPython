#%%
# import random
for i in range(20):
    x = random.random()
    print x
#%%

#%%
for i in range(10):
    x = random.randint(0, 100)
    print x
#%%
    
#%%
x = np.arange (1, 101)   
#%%

#%%
def getMedian():
    prompt = 'Enter a whole number of elements to put in a random array: '
    input = raw_input(prompt)
    myArray = np.array()    
        for i in range(input):
            x = random.random()
            myArray.append(x)
    print 'Mean of array: '
    print np.mean(myArray)
    print 'Median of array: '
    print np.median(myArray)
#%%

#%%
myArray = np.zeros(5)   
for i in range(5):
        x = random.random()
        myArray.append(x)

print myArray
          
#%%

#%%

print "Hello World!"

#%%
