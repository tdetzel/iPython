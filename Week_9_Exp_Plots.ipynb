{
 "metadata": {
  "name": "",
  "signature": "sha256:9eb70ab0dcad4eb065d780af10d16774d289582c3ed211f2274fd7748ac42d01"
 },
 "nbformat": 3,
 "nbformat_minor": 0,
 "worksheets": [
  {
   "cells": [
    {
     "cell_type": "code",
     "collapsed": false,
     "input": [
      "import pandas as pd\n",
      "import numpy as np\n",
      "import matplotlib.pyplot as plt\n",
      "%matplotlib inline"
     ],
     "language": "python",
     "metadata": {},
     "outputs": [],
     "prompt_number": 2
    },
    {
     "cell_type": "code",
     "collapsed": false,
     "input": [
      "cuny9 = pd.read_csv(\"/Users/tjd/Documents/Coursera/Data/cuny9.csv\")"
     ],
     "language": "python",
     "metadata": {},
     "outputs": [],
     "prompt_number": 4
    },
    {
     "cell_type": "code",
     "collapsed": false,
     "input": [
      "cuny9.head()"
     ],
     "language": "python",
     "metadata": {},
     "outputs": [
      {
       "html": [
        "<div style=\"max-height:1000px;max-width:1500px;overflow:auto;\">\n",
        "<table border=\"1\" class=\"dataframe\">\n",
        "  <thead>\n",
        "    <tr style=\"text-align: right;\">\n",
        "      <th></th>\n",
        "      <th>Unnamed: 0</th>\n",
        "      <th>x1</th>\n",
        "      <th>y1</th>\n",
        "      <th>x2</th>\n",
        "      <th>y2</th>\n",
        "      <th>x3</th>\n",
        "      <th>y3</th>\n",
        "      <th>x4</th>\n",
        "      <th>y4</th>\n",
        "    </tr>\n",
        "  </thead>\n",
        "  <tbody>\n",
        "    <tr>\n",
        "      <th>0</th>\n",
        "      <td> 1</td>\n",
        "      <td> 10</td>\n",
        "      <td> 8.04</td>\n",
        "      <td> 10</td>\n",
        "      <td> 9.14</td>\n",
        "      <td> 10</td>\n",
        "      <td>  7.46</td>\n",
        "      <td> 8</td>\n",
        "      <td> 6.58</td>\n",
        "    </tr>\n",
        "    <tr>\n",
        "      <th>1</th>\n",
        "      <td> 2</td>\n",
        "      <td>  8</td>\n",
        "      <td> 6.95</td>\n",
        "      <td>  8</td>\n",
        "      <td> 8.14</td>\n",
        "      <td>  8</td>\n",
        "      <td>  6.77</td>\n",
        "      <td> 8</td>\n",
        "      <td> 5.76</td>\n",
        "    </tr>\n",
        "    <tr>\n",
        "      <th>2</th>\n",
        "      <td> 3</td>\n",
        "      <td> 13</td>\n",
        "      <td> 7.58</td>\n",
        "      <td> 13</td>\n",
        "      <td> 8.74</td>\n",
        "      <td> 13</td>\n",
        "      <td> 12.74</td>\n",
        "      <td> 8</td>\n",
        "      <td> 7.71</td>\n",
        "    </tr>\n",
        "    <tr>\n",
        "      <th>3</th>\n",
        "      <td> 4</td>\n",
        "      <td>  9</td>\n",
        "      <td> 8.81</td>\n",
        "      <td>  9</td>\n",
        "      <td> 8.77</td>\n",
        "      <td>  9</td>\n",
        "      <td>  7.11</td>\n",
        "      <td> 8</td>\n",
        "      <td> 8.84</td>\n",
        "    </tr>\n",
        "    <tr>\n",
        "      <th>4</th>\n",
        "      <td> 5</td>\n",
        "      <td> 11</td>\n",
        "      <td> 8.33</td>\n",
        "      <td> 11</td>\n",
        "      <td> 9.26</td>\n",
        "      <td> 11</td>\n",
        "      <td>  7.81</td>\n",
        "      <td> 8</td>\n",
        "      <td> 8.47</td>\n",
        "    </tr>\n",
        "  </tbody>\n",
        "</table>\n",
        "<p>5 rows \u00d7 9 columns</p>\n",
        "</div>"
       ],
       "metadata": {},
       "output_type": "pyout",
       "prompt_number": 5,
       "text": [
        "   Unnamed: 0  x1    y1  x2    y2  x3     y3  x4    y4\n",
        "0           1  10  8.04  10  9.14  10   7.46   8  6.58\n",
        "1           2   8  6.95   8  8.14   8   6.77   8  5.76\n",
        "2           3  13  7.58  13  8.74  13  12.74   8  7.71\n",
        "3           4   9  8.81   9  8.77   9   7.11   8  8.84\n",
        "4           5  11  8.33  11  9.26  11   7.81   8  8.47\n",
        "\n",
        "[5 rows x 9 columns]"
       ]
      }
     ],
     "prompt_number": 5
    },
    {
     "cell_type": "code",
     "collapsed": false,
     "input": [
      "cuny9.plot(x='x1', y='y1', kind='scatter')\n",
      "cuny9.plot(x='x2', y='y2', kind='scatter')\n",
      "cuny9.plot(x='x3', y='y3', kind='scatter')\n",
      "cuny9.plot(x='x4', y='y4', kind='scatter')"
     ],
     "language": "python",
     "metadata": {},
     "outputs": [
      {
       "metadata": {},
       "output_type": "pyout",
       "prompt_number": 6,
       "text": [
        "<matplotlib.axes.AxesSubplot at 0x107c58210>"
       ]
      },
      {
       "metadata": {},
       "output_type": "display_data",
       "png": "[encoded data removed]",
       "text": [
        "<matplotlib.figure.Figure at 0x10788ea10>"
       ]
      },
      {
       "metadata": {},
       "output_type": "display_data",
       "png": "[encoded data removed]",
       "text": [
        "<matplotlib.figure.Figure at 0x10788ea50>"
       ]
      },
      {
       "metadata": {},
       "output_type": "display_data",
       "png": "[encoded data removed]",
       "text": [
        "<matplotlib.figure.Figure at 0x107a224d0>"
       ]
      },
      {
       "metadata": {},
       "output_type": "display_data",
       "png": "[encoded data removed]",
       "text": [
        "<matplotlib.figure.Figure at 0x107ab4610>"
       ]
      }
     ],
     "prompt_number": 6
    },
    {
     "cell_type": "code",
     "collapsed": false,
     "input": [],
     "language": "python",
     "metadata": {},
     "outputs": []
    }
   ],
   "metadata": {}
  }
 ]
}
